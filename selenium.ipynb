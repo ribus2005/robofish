{
 "cells": [
  {
   "cell_type": "code",
   "execution_count": 108,
   "id": "836af59d-d4e6-491b-9c80-b56f091c112e",
   "metadata": {},
   "outputs": [],
   "source": [
    "from selenium import webdriver\n",
    "from selenium.webdriver.common.by import By\n",
    "from selenium.webdriver.support.ui import WebDriverWait\n",
    "from selenium.webdriver.support import expected_conditions as EC\n",
    "import re"
   ]
  },
  {
   "cell_type": "code",
   "execution_count": 120,
   "id": "d0767bbd-6633-44f8-8efd-1becb35bda8b",
   "metadata": {},
   "outputs": [],
   "source": [
    "def parse_product(info):\n",
    "    rows = info.split('\\n')\n",
    "    name = rows[0].replace(\" 1*50*20\",'')\n",
    "    price = rows[1].split(' ')[0]\n",
    "    amount = rows[2].split(' ')[4]\n",
    "    if len(rows[3].split(' ')) == 6:\n",
    "        block = rows[3].split(' ')[5]\n",
    "    else:\n",
    "        block = '0'\n",
    "    return (name,price,amount,block)"
   ]
  },
  {
   "cell_type": "code",
   "execution_count": 121,
   "id": "64a88236-6e66-4e94-87ce-8562fc05e781",
   "metadata": {},
   "outputs": [
    {
     "name": "stdout",
     "output_type": "stream",
     "text": [
      "Купить зажигалки оптом в Новосибирске - цена от 5р./шт - cтраница №1\n",
      "Купить зажигалки оптом в Новосибирске - цена от 5р./шт - cтраница №2\n",
      "Купить зажигалки оптом в Новосибирске - цена от 5р./шт - cтраница №3\n",
      "Купить зажигалки оптом в Новосибирске - цена от 5р./шт - cтраница №4\n",
      "Купить зажигалки оптом в Новосибирске - цена от 5р./шт - cтраница №5\n",
      "Купить зажигалки оптом в Новосибирске - цена от 5р./шт - cтраница №6\n",
      "Купить зажигалки оптом в Новосибирске - цена от 5р./шт - cтраница №7\n"
     ]
    }
   ],
   "source": [
    "driver = webdriver.Chrome()\n",
    "outcome = []\n",
    "for page in range(1,8):\n",
    "    driver.get(f\"https://z-54.ru//catalog//zajigalki//?PAGEN_1={page}\")\n",
    "    print(driver.title)\n",
    "    elements = driver.find_elements(By.CLASS_NAME,\"info-wrap\")\n",
    "    for element in elements:\n",
    "        outcome.append(parse_product(element.text))"
   ]
  },
  {
   "cell_type": "code",
   "execution_count": 122,
   "id": "57d628ff-b2c4-4253-b714-a44c26ca1428",
   "metadata": {},
   "outputs": [],
   "source": [
    "file = open('./product table.csv','w')\n",
    "file.write('name;price;amount;blocks\\n')\n",
    "for product in outcome:\n",
    "    file.write(product[0] +';'+ product[1] +';'+ product[2] +';'+ product[3] +'\\n')\n",
    "file.close()"
   ]
  },
  {
   "cell_type": "code",
   "execution_count": 113,
   "id": "39734170-bb5a-4bc2-8d5e-6ccb50b32547",
   "metadata": {},
   "outputs": [
    {
     "data": {
      "text/plain": [
       "'Турбо (ТИГР 606) мини JET МЕТАЛЛ Золото 1*25*40\\n26.50 руб. / шт\\nКоличество в блоке (коробке): 25\\nКоличество блоков в 1-м месте: 40\\nВ корзину'"
      ]
     },
     "execution_count": 113,
     "metadata": {},
     "output_type": "execute_result"
    }
   ],
   "source": [
    "elements[0].text"
   ]
  },
  {
   "cell_type": "code",
   "execution_count": null,
   "id": "f2504cc7-1244-49c0-847a-40815486e01e",
   "metadata": {},
   "outputs": [],
   "source": []
  }
 ],
 "metadata": {
  "kernelspec": {
   "display_name": "Python 3 (ipykernel)",
   "language": "python",
   "name": "python3"
  },
  "language_info": {
   "codemirror_mode": {
    "name": "ipython",
    "version": 3
   },
   "file_extension": ".py",
   "mimetype": "text/x-python",
   "name": "python",
   "nbconvert_exporter": "python",
   "pygments_lexer": "ipython3",
   "version": "3.12.0"
  }
 },
 "nbformat": 4,
 "nbformat_minor": 5
}
