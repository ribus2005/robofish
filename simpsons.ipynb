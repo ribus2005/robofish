{
 "cells": [
  {
   "cell_type": "code",
   "execution_count": 1,
   "id": "4371331a-750e-48db-aea3-ce7600ba8921",
   "metadata": {
    "colab": {
     "base_uri": "https://localhost:8080/"
    },
    "id": "4371331a-750e-48db-aea3-ce7600ba8921",
    "outputId": "ff1e9af0-e986-42e1-e439-6151cd324acd",
    "scrolled": true
   },
   "outputs": [
    {
     "name": "stdout",
     "output_type": "stream",
     "text": [
      "Path to dataset files: C:\\Users\\Пк\\.cache\\kagglehub\\datasets\\bolg4rin\\simpson-dataset-fixed\\versions\\3\n"
     ]
    }
   ],
   "source": [
    "import kagglehub\n",
    "\n",
    "# Download latest version\n",
    "path = kagglehub.dataset_download(\"bolg4rin/simpson-dataset-fixed\")\n",
    "\n",
    "print(\"Path to dataset files:\", path)"
   ]
  },
  {
   "cell_type": "code",
   "execution_count": 2,
   "id": "2b15e9c4-83e2-462c-ac0e-5b6279e53a28",
   "metadata": {
    "id": "2b15e9c4-83e2-462c-ac0e-5b6279e53a28"
   },
   "outputs": [],
   "source": [
    "import os\n",
    "from tqdm import tqdm\n",
    "from torchvision.models import resnet50\n",
    "import torch\n",
    "import torch.nn as nn\n",
    "import cv2\n",
    "import matplotlib.pyplot as plt\n",
    "from random import shuffle\n",
    "import PIL\n",
    "from torchvision.transforms.functional import pil_to_tensor\n",
    "import torchvision.transforms as transforms\n",
    "import torchvision\n",
    "from torch.optim.lr_scheduler import StepLR\n",
    "dr = 'C:/Users/Пк/.cache/kagglehub/datasets/bolg4rin/simpson-dataset-fixed/versions/3/the_simpson_dataset/train/'"
   ]
  },
  {
   "cell_type": "code",
   "execution_count": 3,
   "id": "ef7ff4eb-7392-438e-b0dd-47558e7a5abb",
   "metadata": {
    "id": "ef7ff4eb-7392-438e-b0dd-47558e7a5abb"
   },
   "outputs": [],
   "source": [
    "riba = resnet50(weights = 'ResNet50_Weights.DEFAULT')\n",
    "riba.fc = nn.Linear(2048,42)\n",
    "#riba = torch.nn.DataParallel(riba)\n",
    "riba = riba.cuda()\n",
    "loss_function = nn.CrossEntropyLoss().cuda()\n",
    "optim = torch.optim.Adam(riba.parameters(),lr=0.0001)\n",
    "scheduler = StepLR(optim, step_size=4, gamma=0.1)"
   ]
  },
  {
   "cell_type": "code",
   "execution_count": 4,
   "id": "ow87CQcWb-M1",
   "metadata": {
    "id": "ow87CQcWb-M1"
   },
   "outputs": [],
   "source": [
    "train_transform = transforms.Compose([\n",
    "    transforms.Resize(256),\n",
    "    transforms.RandomHorizontalFlip(),\n",
    "    transforms.RandomVerticalFlip(),\n",
    "    transforms.RandomRotation(degrees=45),\n",
    "    #transforms.ColorJitter(brightness=0.5, contrast=0.5, saturation=0.5, hue=0.5),\n",
    "    transforms.CenterCrop(224),\n",
    "    transforms.ToTensor(),\n",
    "    #transforms.RandomErasing(p=0.25,scale=(0.05, 0.15), ratio=(1, 1),value='random'),\n",
    "    transforms.Normalize(0.5, 0.5)\n",
    "])\n",
    "val_transform = transforms.Compose([\n",
    "    transforms.Resize(256),\n",
    "    transforms.CenterCrop(224),\n",
    "    transforms.ToTensor(),\n",
    "    transforms.Normalize(0.5, 0.5)\n",
    "]\n",
    ")"
   ]
  },
  {
   "cell_type": "code",
   "execution_count": 5,
   "id": "a79468b2-cbdb-4d74-a583-3363a7bcd436",
   "metadata": {},
   "outputs": [],
   "source": [
    "train_dataset = torchvision.datasets.ImageFolder(\n",
    "    root='C:/Users/Пк/.cache/kagglehub/datasets/bolg4rin/simpson-dataset-fixed/versions/3/the_simpson_dataset/train', \n",
    "    transform=None\n",
    ")\n",
    "train_subset, validation_subset = torch.utils.data.random_split(train_dataset,[0.8,0.2])\n",
    "train_subset.dataset.transform = train_transform\n",
    "validation_subset.dataset.transform = val_transform"
   ]
  },
  {
   "cell_type": "code",
   "execution_count": 6,
   "id": "5c4ad1cf-be5a-4cfb-8313-175eab5dd26a",
   "metadata": {},
   "outputs": [],
   "source": [
    "train_loader = torch.utils.data.DataLoader(train_subset, batch_size=128, shuffle=True, num_workers=2)\n",
    "validation_loader = torch.utils.data.DataLoader(validation_subset, batch_size=64, shuffle=False, num_workers=2)"
   ]
  },
  {
   "cell_type": "code",
   "execution_count": 7,
   "id": "e90c811d-a559-4c87-bfd8-96b6e1dca6b3",
   "metadata": {
    "scrolled": true
   },
   "outputs": [
    {
     "name": "stderr",
     "output_type": "stream",
     "text": [
      "100%|████████████████████████████████████████████████████████████████████████████████| 131/131 [01:43<00:00,  1.27it/s]\n"
     ]
    },
    {
     "name": "stdout",
     "output_type": "stream",
     "text": [
      "epoch 0 loss 1.4425033046544053 validation loss 0.3656353027080045 validation F1 50.41\n"
     ]
    },
    {
     "name": "stderr",
     "output_type": "stream",
     "text": [
      "100%|████████████████████████████████████████████████████████████████████████████████| 131/131 [01:34<00:00,  1.39it/s]\n"
     ]
    },
    {
     "name": "stdout",
     "output_type": "stream",
     "text": [
      "epoch 1 loss 0.21394205170164582 validation loss 0.16615550349833388 validation F1 85.38\n"
     ]
    },
    {
     "name": "stderr",
     "output_type": "stream",
     "text": [
      "100%|████████████████████████████████████████████████████████████████████████████████| 131/131 [01:34<00:00,  1.38it/s]\n"
     ]
    },
    {
     "name": "stdout",
     "output_type": "stream",
     "text": [
      "epoch 2 loss 0.05284525318967022 validation loss 0.12579985033494956 validation F1 92.99\n"
     ]
    },
    {
     "name": "stderr",
     "output_type": "stream",
     "text": [
      "100%|████████████████████████████████████████████████████████████████████████████████| 131/131 [01:34<00:00,  1.38it/s]\n"
     ]
    },
    {
     "name": "stdout",
     "output_type": "stream",
     "text": [
      "epoch 3 loss 0.01787676041561911 validation loss 0.11190682071769102 validation F1 94.23\n"
     ]
    },
    {
     "name": "stderr",
     "output_type": "stream",
     "text": [
      "100%|████████████████████████████████████████████████████████████████████████████████| 131/131 [01:34<00:00,  1.39it/s]\n"
     ]
    },
    {
     "name": "stdout",
     "output_type": "stream",
     "text": [
      "epoch 4 loss 0.007449612585749506 validation loss 0.10491005043414506 validation F1 94.35\n"
     ]
    },
    {
     "name": "stderr",
     "output_type": "stream",
     "text": [
      "100%|████████████████████████████████████████████████████████████████████████████████| 131/131 [01:34<00:00,  1.39it/s]\n"
     ]
    },
    {
     "name": "stdout",
     "output_type": "stream",
     "text": [
      "epoch 5 loss 0.006385126088937844 validation loss 0.10270284193878372 validation F1 95.04\n"
     ]
    },
    {
     "name": "stderr",
     "output_type": "stream",
     "text": [
      "100%|████████████████████████████████████████████████████████████████████████████████| 131/131 [01:34<00:00,  1.39it/s]\n"
     ]
    },
    {
     "name": "stdout",
     "output_type": "stream",
     "text": [
      "epoch 6 loss 0.0055126061606156915 validation loss 0.10215413293123922 validation F1 94.91\n"
     ]
    },
    {
     "name": "stderr",
     "output_type": "stream",
     "text": [
      "100%|████████████████████████████████████████████████████████████████████████████████| 131/131 [01:35<00:00,  1.37it/s]\n"
     ]
    },
    {
     "name": "stdout",
     "output_type": "stream",
     "text": [
      "epoch 7 loss 0.00506383960956409 validation loss 0.10200329463590276 validation F1 94.87\n"
     ]
    },
    {
     "name": "stderr",
     "output_type": "stream",
     "text": [
      "100%|████████████████████████████████████████████████████████████████████████████████| 131/131 [01:34<00:00,  1.39it/s]\n"
     ]
    },
    {
     "name": "stdout",
     "output_type": "stream",
     "text": [
      "epoch 8 loss 0.004480794576913801 validation loss 0.10098861033717792 validation F1 95.33\n"
     ]
    },
    {
     "name": "stderr",
     "output_type": "stream",
     "text": [
      "100%|████████████████████████████████████████████████████████████████████████████████| 131/131 [01:35<00:00,  1.37it/s]\n"
     ]
    },
    {
     "name": "stdout",
     "output_type": "stream",
     "text": [
      "epoch 9 loss 0.00449000529541442 validation loss 0.10111239139752631 validation F1 94.85\n"
     ]
    }
   ],
   "source": [
    "from sklearn.metrics import f1_score\n",
    "loss_graph = []\n",
    "f1_graph = []\n",
    "val_loss_graph = []\n",
    "\n",
    "for epoch in range(10):\n",
    "    running_loss = 0\n",
    "    riba.train()\n",
    "    for inputs, labels in tqdm(train_loader):\n",
    "        inputs = inputs.cuda()\n",
    "        labels = labels.cuda()\n",
    "        \n",
    "        optim.zero_grad()\n",
    "    \n",
    "        outputs = riba(inputs)\n",
    "        loss = loss_function(outputs, labels)\n",
    "        running_loss += loss.item()\n",
    "        loss.backward()\n",
    "        optim.step()\n",
    "        \n",
    "    accuracy = 0\n",
    "    validation_loss = 0\n",
    "    torch.save(riba.state_dict(),f'simpsons_model/simpsons_scheduler{epoch}.pth')\n",
    "    riba.eval()\n",
    "    preds = []\n",
    "    targets = []\n",
    "    with torch.no_grad():\n",
    "        for inputs, labels in validation_loader:\n",
    "            inputs = inputs.cuda()\n",
    "            labels = labels.cuda()\n",
    "            outputs = riba(inputs)\n",
    "            loss = loss_function(outputs, labels)\n",
    "            validation_loss += loss.item()\n",
    "            preds.extend(torch.argmax(outputs,dim=1).cpu().numpy())\n",
    "            targets.extend(labels.cpu().numpy())\n",
    "    macro_f1 = f1_score(targets, preds, average='macro')\n",
    "    running_loss /= len(train_loader)\n",
    "    validation_loss /= len(validation_loader)\n",
    "    print('epoch',epoch,'loss',running_loss,'validation loss',validation_loss,f'validation F1 {(macro_f1*100):.2f}')\n",
    "    loss_graph.append(running_loss)\n",
    "    f1_graph.append(macro_f1)\n",
    "    val_loss_graph.append(validation_loss)\n",
    "    scheduler.step()\n",
    "            "
   ]
  },
  {
   "cell_type": "code",
   "execution_count": 8,
   "id": "16dc0054-d21a-40bf-b350-ea24b22a36d3",
   "metadata": {},
   "outputs": [
    {
     "name": "stderr",
     "output_type": "stream",
     "text": [
      "100%|████████████████████████████████████████████████████████████████████████████████████| 7/7 [00:07<00:00,  1.02s/it]"
     ]
    },
    {
     "name": "stdout",
     "output_type": "stream",
     "text": [
      "Macro F1: 87.30%\n",
      "Accuracy: 87.73%\n",
      "abraham_grampa_simpson accuracy: 100.00%\n",
      "agnes_skinner accuracy: 50.00%\n",
      "apu_nahasapeemapetilon accuracy: 100.00%\n",
      "barney_gumble accuracy: 70.00%\n",
      "bart_simpson accuracy: 100.00%\n",
      "carl_carlson accuracy: 100.00%\n",
      "charles_montgomery_burns accuracy: 100.00%\n",
      "chief_wiggum accuracy: 100.00%\n",
      "cletus_spuckler accuracy: 50.00%\n",
      "comic_book_guy accuracy: 100.00%\n",
      "disco_stu accuracy: 80.00%\n",
      "edna_krabappel accuracy: 90.91%\n",
      "fat_tony accuracy: 90.00%\n",
      "gil accuracy: 70.00%\n",
      "groundskeeper_willie accuracy: 80.00%\n",
      "homer_simpson accuracy: 100.00%\n",
      "kent_brockman accuracy: 100.00%\n",
      "krusty_the_clown accuracy: 100.00%\n",
      "lenny_leonard accuracy: 90.91%\n",
      "lionel_hutz accuracy: 90.00%\n",
      "lisa_simpson accuracy: 100.00%\n",
      "maggie_simpson accuracy: 70.00%\n",
      "marge_simpson accuracy: 90.91%\n",
      "martin_prince accuracy: 80.00%\n",
      "mayor_quimby accuracy: 90.91%\n",
      "milhouse_van_houten accuracy: 100.00%\n",
      "miss_hoover accuracy: 80.00%\n",
      "moe_szyslak accuracy: 100.00%\n",
      "ned_flanders accuracy: 100.00%\n",
      "nelson_muntz accuracy: 100.00%\n",
      "otto_mann accuracy: 90.00%\n",
      "patty_bouvier accuracy: 60.00%\n",
      "principal_skinner accuracy: 100.00%\n",
      "professor_john_frink accuracy: 60.00%\n",
      "rainier_wolfcastle accuracy: 80.00%\n",
      "ralph_wiggum accuracy: 80.00%\n",
      "selma_bouvier accuracy: 80.00%\n",
      "sideshow_bob accuracy: 100.00%\n",
      "sideshow_mel accuracy: 100.00%\n",
      "snake_jailbird accuracy: 60.00%\n",
      "troy_mcclure accuracy: 90.00%\n",
      "waylon_smithers accuracy: 90.00%\n"
     ]
    },
    {
     "name": "stderr",
     "output_type": "stream",
     "text": [
      "\n"
     ]
    }
   ],
   "source": [
    "from sklearn.metrics import f1_score\n",
    "from sklearn.metrics import accuracy_score\n",
    "import numpy as np\n",
    "test_dataset = torchvision.datasets.ImageFolder(\n",
    "    root='C:/Users/Пк/.cache/kagglehub/datasets/bolg4rin/simpson-dataset-fixed/versions/3/the_simpson_dataset/test', \n",
    "    transform=val_transform\n",
    ")\n",
    "test_loader = torch.utils.data.DataLoader(test_dataset, batch_size=64, shuffle=False, num_workers=2)\n",
    "preds = []\n",
    "targets = []\n",
    "class_preds = []\n",
    "class_targets = []\n",
    "for i in range(42):\n",
    "    class_preds.append([])\n",
    "    class_targets.append([])\n",
    "riba.eval()\n",
    "with torch.no_grad():\n",
    "    for inputs, target in tqdm(test_loader):\n",
    "        inputs = inputs.cuda()\n",
    "        target = target.cuda()\n",
    "        outputs = riba(inputs)\n",
    "        pred = torch.argmax(outputs, dim=1)\n",
    "        for i in range (len(target)):\n",
    "            class_code = target[i]\n",
    "            class_targets[class_code].append(class_code.cpu().numpy())\n",
    "            class_preds[class_code].append(pred[i].cpu().numpy())\n",
    "        preds.extend(pred.cpu().numpy())\n",
    "        targets.extend(target.cpu().numpy())\n",
    "macro_f1 = f1_score(targets, preds, average='macro')\n",
    "accuracy = accuracy_score(targets,preds)\n",
    "print(f'Macro F1: {(macro_f1*100):.2f}%')\n",
    "print(f'Accuracy: {(accuracy*100):.2f}%')\n",
    "for i in range(len(class_preds)):\n",
    "    acc = accuracy_score(class_preds[i],class_targets[i])\n",
    "    print(f'{test_dataset.classes[i]} accuracy: {(acc*100):.2f}%')"
   ]
  },
  {
   "cell_type": "code",
   "execution_count": 15,
   "id": "8a4a933c-9118-400b-a22e-c9afb2ba1704",
   "metadata": {},
   "outputs": [
    {
     "data": {
      "text/plain": [
       "Text(0, 0.5, 'Loss')"
      ]
     },
     "execution_count": 15,
     "metadata": {},
     "output_type": "execute_result"
    },
    {
     "data": {
      "image/png": "[encoded data removed]",
      "text/plain": [
       "<Figure size 640x480 with 1 Axes>"
      ]
     },
     "metadata": {},
     "output_type": "display_data"
    }
   ],
   "source": [
    "plt.figure()\n",
    "plt.plot(loss_graph)\n",
    "plt.plot(val_loss_graph)\n",
    "plt.plot(f1_graph)\n",
    "plt.title('Loss')\n",
    "plt.xlabel('Epochs')\n",
    "plt.ylabel('Loss')"
   ]
  },
  {
   "cell_type": "code",
   "execution_count": 10,
   "id": "98e59b20-c19b-47f3-ace7-d7508d0e358d",
   "metadata": {},
   "outputs": [
    {
     "data": {
      "text/plain": [
       "Text(0, 0.5, 'Loss')"
      ]
     },
     "execution_count": 10,
     "metadata": {},
     "output_type": "execute_result"
    },
    {
     "data": {
      "image/png": "[encoded data removed]",
      "text/plain": [
       "<Figure size 640x480 with 1 Axes>"
      ]
     },
     "metadata": {},
     "output_type": "display_data"
    }
   ],
   "source": [
    "plt.figure()\n",
    "plt.plot(val_loss_graph)\n",
    "plt.title('Validation Loss')\n",
    "plt.xlabel('Epochs')\n",
    "plt.ylabel('Loss')"
   ]
  },
  {
   "cell_type": "code",
   "execution_count": 11,
   "id": "41b70978-97b8-4214-8108-01ad19af5232",
   "metadata": {},
   "outputs": [
    {
     "data": {
      "text/plain": [
       "Text(0, 0.5, 'F1 score')"
      ]
     },
     "execution_count": 11,
     "metadata": {},
     "output_type": "execute_result"
    },
    {
     "data": {
      "image/png": "[encoded data removed]",
      "text/plain": [
       "<Figure size 640x480 with 1 Axes>"
      ]
     },
     "metadata": {},
     "output_type": "display_data"
    }
   ],
   "source": [
    "plt.figure()\n",
    "plt.plot(f1_graph)\n",
    "plt.title('Validation macro F1 score')\n",
    "plt.xlabel('Epochs')\n",
    "plt.ylabel('F1 score')"
   ]
  },
  {
   "cell_type": "code",
   "execution_count": null,
   "id": "cece302b-2197-4726-96ba-85321a22cac2",
   "metadata": {},
   "outputs": [],
   "source": []
  },
  {
   "cell_type": "code",
   "execution_count": null,
   "id": "29b0e8b5-5120-4469-a0f1-1992a80178ee",
   "metadata": {},
   "outputs": [],
   "source": []
  },
  {
   "cell_type": "code",
   "execution_count": null,
   "id": "4fcbfe85-d92f-4a69-91ba-19fe3ff9ad1d",
   "metadata": {},
   "outputs": [],
   "source": []
  }
 ],
 "metadata": {
  "accelerator": "GPU",
  "colab": {
   "gpuType": "T4",
   "provenance": []
  },
  "kernelspec": {
   "display_name": "Python 3 (ipykernel)",
   "language": "python",
   "name": "python3"
  },
  "language_info": {
   "codemirror_mode": {
    "name": "ipython",
    "version": 3
   },
   "file_extension": ".py",
   "mimetype": "text/x-python",
   "name": "python",
   "nbconvert_exporter": "python",
   "pygments_lexer": "ipython3",
   "version": "3.11.5"
  }
 },
 "nbformat": 4,
 "nbformat_minor": 5
}
