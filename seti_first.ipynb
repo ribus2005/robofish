{
 "cells": [
  {
   "cell_type": "code",
   "execution_count": 9,
   "id": "9c78f8dc-08be-46e4-ad11-11c3f7afb792",
   "metadata": {},
   "outputs": [],
   "source": [
    "import csv\n",
    "import pandas\n",
    "from pythonping import ping"
   ]
  },
  {
   "cell_type": "code",
   "execution_count": 2,
   "id": "0846c3b2-d605-4f46-beb5-46957da04fb0",
   "metadata": {},
   "outputs": [
    {
     "data": {
      "text/plain": [
       "Reply from 74.125.131.102, 29 bytes in 52.64ms\n",
       "Reply from 74.125.131.102, 29 bytes in 53.21ms\n",
       "Reply from 74.125.131.102, 29 bytes in 53.04ms\n",
       "Reply from 74.125.131.102, 29 bytes in 52.55ms\n",
       "\n",
       "Round Trip Times min/avg/max is 52.55/52.86/53.21 ms"
      ]
     },
     "execution_count": 2,
     "metadata": {},
     "output_type": "execute_result"
    }
   ],
   "source": [
    "ping('google.com')"
   ]
  },
  {
   "cell_type": "code",
   "execution_count": 13,
   "id": "17acb790-362d-40fd-85a0-a370bb66e0c4",
   "metadata": {},
   "outputs": [],
   "source": [
    "results = []\n",
    "results.append(('fresh.nsuts.ru',ping('fresh.nsuts.ru')))\n",
    "results.append(('google.com',ping('google.com')))\n",
    "results.append(('208.67.222.222',ping('208.67.222.222')))\n",
    "results.append(('1.1.1.1',ping('1.1.1.1')))\n",
    "results.append(('8.8.8.8',ping('8.8.8.8')))\n",
    "results.append(('192.0.43.10',ping('192.0.43.10')))\n",
    "results.append(('4.2.2.2',ping('4.2.2.2')))\n",
    "results.append(('99.99.99.99',ping('99.99.99.99')))\n",
    "results.append(('208.67.222.222',ping('208.67.222.222')))\n",
    "results.append(('github.com',ping('github.com')))"
   ]
  },
  {
   "cell_type": "code",
   "execution_count": 14,
   "id": "5faad177-1599-4f4c-bb5a-a283951c4639",
   "metadata": {},
   "outputs": [],
   "source": [
    "file = open('./ping table.csv','w')\n",
    "file.write('adress;average rtt time ms\\n')\n",
    "for result in results:\n",
    "    row = result[0]\n",
    "    row += ';'\n",
    "    row += str(result[1].rtt_avg_ms)\n",
    "    row+= '\\n'\n",
    "    file.write(row)\n",
    "file.close()"
   ]
  },
  {
   "cell_type": "code",
   "execution_count": 15,
   "id": "326cb76b-9b6e-4c12-b996-b78d1689b77d",
   "metadata": {},
   "outputs": [
    {
     "data": {
      "text/html": [
       "<div>\n",
       "<style scoped>\n",
       "    .dataframe tbody tr th:only-of-type {\n",
       "        vertical-align: middle;\n",
       "    }\n",
       "\n",
       "    .dataframe tbody tr th {\n",
       "        vertical-align: top;\n",
       "    }\n",
       "\n",
       "    .dataframe thead th {\n",
       "        text-align: right;\n",
       "    }\n",
       "</style>\n",
       "<table border=\"1\" class=\"dataframe\">\n",
       "  <thead>\n",
       "    <tr style=\"text-align: right;\">\n",
       "      <th></th>\n",
       "      <th>adress</th>\n",
       "      <th>average rtt time ms</th>\n",
       "    </tr>\n",
       "  </thead>\n",
       "  <tbody>\n",
       "    <tr>\n",
       "      <th>0</th>\n",
       "      <td>fresh.nsuts.ru</td>\n",
       "      <td>8.57</td>\n",
       "    </tr>\n",
       "    <tr>\n",
       "      <th>1</th>\n",
       "      <td>google.com</td>\n",
       "      <td>548.94</td>\n",
       "    </tr>\n",
       "    <tr>\n",
       "      <th>2</th>\n",
       "      <td>208.67.222.222</td>\n",
       "      <td>91.01</td>\n",
       "    </tr>\n",
       "    <tr>\n",
       "      <th>3</th>\n",
       "      <td>1.1.1.1</td>\n",
       "      <td>55.74</td>\n",
       "    </tr>\n",
       "    <tr>\n",
       "      <th>4</th>\n",
       "      <td>8.8.8.8</td>\n",
       "      <td>67.50</td>\n",
       "    </tr>\n",
       "    <tr>\n",
       "      <th>5</th>\n",
       "      <td>192.0.43.10</td>\n",
       "      <td>203.80</td>\n",
       "    </tr>\n",
       "    <tr>\n",
       "      <th>6</th>\n",
       "      <td>4.2.2.2</td>\n",
       "      <td>101.22</td>\n",
       "    </tr>\n",
       "    <tr>\n",
       "      <th>7</th>\n",
       "      <td>99.99.99.99</td>\n",
       "      <td>2000.00</td>\n",
       "    </tr>\n",
       "    <tr>\n",
       "      <th>8</th>\n",
       "      <td>208.67.222.222</td>\n",
       "      <td>101.97</td>\n",
       "    </tr>\n",
       "    <tr>\n",
       "      <th>9</th>\n",
       "      <td>github.com</td>\n",
       "      <td>566.76</td>\n",
       "    </tr>\n",
       "  </tbody>\n",
       "</table>\n",
       "</div>"
      ],
      "text/plain": [
       "           adress  average rtt time ms\n",
       "0  fresh.nsuts.ru                 8.57\n",
       "1      google.com               548.94\n",
       "2  208.67.222.222                91.01\n",
       "3         1.1.1.1                55.74\n",
       "4         8.8.8.8                67.50\n",
       "5     192.0.43.10               203.80\n",
       "6         4.2.2.2               101.22\n",
       "7     99.99.99.99              2000.00\n",
       "8  208.67.222.222               101.97\n",
       "9      github.com               566.76"
      ]
     },
     "execution_count": 15,
     "metadata": {},
     "output_type": "execute_result"
    }
   ],
   "source": [
    "pandas.read_csv('./ping table.csv',sep=';')"
   ]
  },
  {
   "cell_type": "code",
   "execution_count": null,
   "id": "c72b2953-265d-43a2-b3ad-310cef19e235",
   "metadata": {},
   "outputs": [],
   "source": []
  }
 ],
 "metadata": {
  "kernelspec": {
   "display_name": "Python 3 (ipykernel)",
   "language": "python",
   "name": "python3"
  },
  "language_info": {
   "codemirror_mode": {
    "name": "ipython",
    "version": 3
   },
   "file_extension": ".py",
   "mimetype": "text/x-python",
   "name": "python",
   "nbconvert_exporter": "python",
   "pygments_lexer": "ipython3",
   "version": "3.12.0"
  }
 },
 "nbformat": 4,
 "nbformat_minor": 5
}
